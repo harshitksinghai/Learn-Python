{
 "cells": [
  {
   "cell_type": "markdown",
   "metadata": {},
   "source": [
    "## Function to extract entire text in a string from pdf file"
   ]
  },
  {
   "cell_type": "markdown",
   "metadata": {},
   "source": [
    "### Using PyPDF2"
   ]
  },
  {
   "cell_type": "markdown",
   "metadata": {},
   "source": [
    "##### 1. Install required libraries\n",
    "In (venv) terminal:\n",
    "\n",
    "pip install PyPDF2"
   ]
  },
  {
   "cell_type": "markdown",
   "metadata": {},
   "source": [
    "##### 2. Import required libraries"
   ]
  },
  {
   "cell_type": "code",
   "execution_count": 1,
   "metadata": {},
   "outputs": [],
   "source": [
    "import PyPDF2"
   ]
  },
  {
   "cell_type": "markdown",
   "metadata": {},
   "source": [
    "##### 3. Open pdf file"
   ]
  },
  {
   "cell_type": "markdown",
   "metadata": {},
   "source": [
    "PDF files are binary files.\n",
    "So, use Python's built-in open function to open the PDF file in binary read mode."
   ]
  },
  {
   "cell_type": "code",
   "execution_count": null,
   "metadata": {},
   "outputs": [],
   "source": [
    "with open('path/to/your/file.pdf', 'rb') as file:\n",
    "    # file is now opened and ready to be read"
   ]
  },
  {
   "cell_type": "markdown",
   "metadata": {},
   "source": [
    "##### 4. Check PyPDF2 documentation on how to read file\n",
    "(link provided below (may change in future))"
   ]
  },
  {
   "cell_type": "markdown",
   "metadata": {},
   "source": [
    "#### Complete Code (2024) (with comments)"
   ]
  },
  {
   "cell_type": "code",
   "execution_count": null,
   "metadata": {},
   "outputs": [],
   "source": [
    "import PyPDF2  # Import the PyPDF2 library to work with PDF files\n",
    "\n",
    "def read_pdf(file_path):\n",
    "    pdf_text = []  # Initialize an empty list to store text from each page\n",
    "    with open(file_path, 'rb') as file:  # Open the PDF file in binary read mode\n",
    "        reader = PyPDF2.PdfReader(file)  # Create a PdfReader object to read the PDF\n",
    "        for page_num in range(len(reader.pages)):  # Loop through each page in the PDF\n",
    "            page = reader.pages[page_num]  # Get the specific page\n",
    "            pdf_text.append(page.extract_text())  # Extract text from the page and add it to the list\n",
    "    return '\\n'.join(pdf_text)  # Combine text from all pages into a single string separated by newlines\n"
   ]
  },
  {
   "cell_type": "markdown",
   "metadata": {},
   "source": [
    "#### Complete Code (2024) (without comments)"
   ]
  },
  {
   "cell_type": "code",
   "execution_count": null,
   "metadata": {},
   "outputs": [],
   "source": [
    "import PyPDF2\n",
    "\n",
    "# Function to read a PDF file\n",
    "def read_pdf(file_path):\n",
    "    pdf_text = []\n",
    "    with open(file_path, 'rb') as file:\n",
    "        reader = PyPDF2.PdfReader(file)\n",
    "        for page_num in range(len(reader.pages)):\n",
    "            page = reader.pages[page_num]\n",
    "            pdf_text.append(page.extract_text())\n",
    "    return '\\n'.join(pdf_text)"
   ]
  },
  {
   "cell_type": "markdown",
   "metadata": {},
   "source": [
    "#### PyPDF2 documentation link"
   ]
  },
  {
   "cell_type": "markdown",
   "metadata": {},
   "source": [
    "https://pypdf2.readthedocs.io/"
   ]
  },
  {
   "cell_type": "markdown",
   "metadata": {},
   "source": [
    "#### Example\n",
    "\n",
    "##### Input:\n",
    "\n",
    "Page 1\n",
    "\n",
    "Title: Python Programming\n",
    "\n",
    "This is a paragraph about Python programming.\n",
    "\n",
    "Python is a versatile and widely-used programming language.\n",
    "\n",
    "Page 2\n",
    "\n",
    "Libraries in Python\n",
    "\n",
    "Another paragraph discusses the usage of libraries in Python, \n",
    "\n",
    "such as PyPDF2 for working with PDF files.\n",
    "\n",
    "##### Output:\n",
    "\n",
    "\"Title: Python Programming\\nThis is a paragraph about Python programming.\\nPython is a versatile and widely-used programming language.\\n\\nLibraries in Python\\nAnother paragraph discusses the usage of libraries in Python, \\nsuch as PyPDF2 for working with PDF files.\"\n"
   ]
  }
 ],
 "metadata": {
  "kernelspec": {
   "display_name": "venv",
   "language": "python",
   "name": "python3"
  },
  "language_info": {
   "codemirror_mode": {
    "name": "ipython",
    "version": 3
   },
   "file_extension": ".py",
   "mimetype": "text/x-python",
   "name": "python",
   "nbconvert_exporter": "python",
   "pygments_lexer": "ipython3",
   "version": "3.12.3"
  }
 },
 "nbformat": 4,
 "nbformat_minor": 2
}
