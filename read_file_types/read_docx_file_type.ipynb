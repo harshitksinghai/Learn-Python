{
 "cells": [
  {
   "cell_type": "markdown",
   "metadata": {},
   "source": [
    "## Function to extract entire text in a string from docx file"
   ]
  },
  {
   "cell_type": "markdown",
   "metadata": {},
   "source": [
    "### Using docx"
   ]
  },
  {
   "cell_type": "markdown",
   "metadata": {},
   "source": [
    "#### Complete Code (2024) (with comments)"
   ]
  },
  {
   "cell_type": "code",
   "execution_count": null,
   "metadata": {},
   "outputs": [],
   "source": [
    "import docx  # Import the python-docx library to work with DOCX files\n",
    "\n",
    "def read_docx(file_path):\n",
    "    doc = docx.Document(file_path)  # Open the DOCX file using Document function from python-docx\n",
    "    full_text = []  # Initialize an empty list to store text from each paragraph\n",
    "    for para in doc.paragraphs:  # Loop through each paragraph in the document\n",
    "        full_text.append(para.text)  # Extract text from the paragraph and add it to the list\n",
    "    return '\\n'.join(full_text)  # Combine text from all paragraphs into a single string separated by newlines\n"
   ]
  },
  {
   "cell_type": "markdown",
   "metadata": {},
   "source": [
    "#### Complete Code (2024) (without comments)"
   ]
  },
  {
   "cell_type": "code",
   "execution_count": null,
   "metadata": {},
   "outputs": [],
   "source": [
    "import docx\n",
    "\n",
    "# Function to read a DOCX file\n",
    "def read_docx(file_path):\n",
    "    doc = docx.Document(file_path)\n",
    "    full_text = []\n",
    "    for para in doc.paragraphs:\n",
    "        full_text.append(para.text)\n",
    "    return '\\n'.join(full_text)"
   ]
  },
  {
   "cell_type": "markdown",
   "metadata": {},
   "source": [
    "#### Example\n",
    "\n",
    "##### Input:\n",
    "\n",
    "Title: Python Programming\n",
    "\n",
    "This is a paragraph about Python programming. Python is a versatile and widely-used programming language.\n",
    "\n",
    "Another paragraph discusses the usage of libraries in Python, such as `docx` for working with Word documents and `PyPDF2` for PDF files.\n",
    "\n",
    "##### Output:\n",
    "\n",
    "\"Title: Python Programming\\nThis is a paragraph about Python programming. Python is a versatile and widely-used programming language.\\nAnother paragraph discusses the usage of libraries in Python, such as `docx` for working with Word documents and `PyPDF2` for PDF files.\"\n"
   ]
  },
  {
   "cell_type": "markdown",
   "metadata": {},
   "source": []
  }
 ],
 "metadata": {
  "kernelspec": {
   "display_name": "venv",
   "language": "python",
   "name": "python3"
  },
  "language_info": {
   "codemirror_mode": {
    "name": "ipython",
    "version": 3
   },
   "file_extension": ".py",
   "mimetype": "text/x-python",
   "name": "python",
   "nbconvert_exporter": "python",
   "pygments_lexer": "ipython3",
   "version": "3.12.3"
  }
 },
 "nbformat": 4,
 "nbformat_minor": 2
}
